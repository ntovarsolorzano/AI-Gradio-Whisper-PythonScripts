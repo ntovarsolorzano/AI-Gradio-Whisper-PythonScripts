#@title Install Libraries
!pip install pillow
!pip install qrcode


import requests
import qrcode
from IPython.display import display

# api-endpoint
URL = "https://is.gd/create.php?format=json&url="

site = input("Enter URL to shorten:")

# Construct the request URL
shorten_url = URL + site

# Sending get request and saving the response as response object
r = requests.get(shorten_url)

# Extracting data
shortURL = r.json()["shorturl"]
print("\nYour URL is now accessible as " + shortURL)

# Create a QR code for the short URL
qr_short = qrcode.QRCode(
    version=None,  # Automatically calculates the version
    error_correction=qrcode.constants.ERROR_CORRECT_L,  # L is the default, allows up to 7% error correction
    box_size=10,
    border=5
)

qr_short.add_data(shortURL)
qr_short.make(fit=True)
img_short = qr_short.make_image(fill='black', back_color='white')

print("Here is the QR-code for the short URL:")
display(img_short)  # Display the QR code for the short URL in Colab

# ----------------------------------------------------------

# Create a separate QR code for the large URL
qr_long = qrcode.QRCode(
    version=None,  # Automatically calculates the version
    error_correction=qrcode.constants.ERROR_CORRECT_L,
    box_size=10,
    border=5
)

qr_long.add_data(site)
qr_long.make(fit=True)
img_long = qr_long.make_image(fill='black', back_color='white')

print("\nAlso, this is the QR-code of the large URL:")
display(img_long)  # Display the QR code for the long URL in Colab
